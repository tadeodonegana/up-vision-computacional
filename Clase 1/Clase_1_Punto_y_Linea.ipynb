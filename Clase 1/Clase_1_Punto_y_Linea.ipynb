{
  "nbformat": 4,
  "nbformat_minor": 0,
  "metadata": {
    "colab": {
      "provenance": []
    },
    "kernelspec": {
      "name": "python3",
      "display_name": "Python 3"
    },
    "language_info": {
      "name": "python"
    }
  },
  "cells": [
    {
      "cell_type": "markdown",
      "metadata": {
        "id": "nA44e9T1r-LC"
      },
      "source": [
        "# 1) Importe las Librerías\n",
        "\n",
        "*Todas las librerías de este código deben ir en esta celda. Sólo está permitido usar las librerías del ejemplo visto en clase.*\n",
        "\n"
      ]
    },
    {
      "cell_type": "code",
      "metadata": {
        "id": "UXiVKMkTrPU8"
      },
      "source": [
        "import numpy as np\n",
        "import matplotlib.pyplot as plt\n",
        "import cv2"
      ],
      "execution_count": null,
      "outputs": []
    },
    {
      "cell_type": "markdown",
      "metadata": {
        "id": "h1h2bAmpGfbf"
      },
      "source": [
        "# 2) Rectas y líneas\n",
        "\n",
        "\n",
        "\n",
        "\n",
        "*   Encuentre la ecuación de la recta que pasa por los puntos (3,5) y (7,8)\n",
        "*   Encuentre la intersección de la recta $y=2x+3$ con la recta $y=-x$\n",
        "\n"
      ]
    },
    {
      "cell_type": "code",
      "metadata": {
        "id": "qtVSn8wesG39",
        "colab": {
          "base_uri": "https://localhost:8080/"
        },
        "outputId": "99bc80e9-3a5a-4d7a-9397-2c10fd88734a"
      },
      "source": [
        "# RECTA\n",
        "\n",
        "m1 = [3,5,1]\n",
        "m2 = [7,8,1]\n",
        "(a,b,c)   = np.cross(m1,m2)\n",
        "print('RECTA: '+str(a)+'x+ '+str(b)+'y+ '+str(c)+' = 0')\n",
        "\n",
        "\n",
        "ell1 = [2,-1,3]\n",
        "ell2 = [-1,-1,0]\n",
        "w   = np.cross(ell1,ell2)\n",
        "(x,y) = w[0:2]/w[2]\n",
        "print('INTERSECCION: x = '+str(x)+'   y = '+str(y))\n",
        "\n",
        "\n"
      ],
      "execution_count": null,
      "outputs": [
        {
          "output_type": "stream",
          "name": "stdout",
          "text": [
            "RECTA: -3x+ 4y+ -11 = 0\n",
            "INTERSECCION: x = -1.0   y = 1.0\n"
          ]
        }
      ]
    }
  ]
}