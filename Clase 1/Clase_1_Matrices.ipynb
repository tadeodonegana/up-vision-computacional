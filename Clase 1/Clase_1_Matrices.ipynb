{
  "nbformat": 4,
  "nbformat_minor": 0,
  "metadata": {
    "colab": {
      "provenance": []
    },
    "kernelspec": {
      "name": "python3",
      "display_name": "Python 3"
    },
    "language_info": {
      "name": "python"
    }
  },
  "cells": [
    {
      "cell_type": "markdown",
      "metadata": {
        "id": "nA44e9T1r-LC"
      },
      "source": [
        "# 1) Importar las Librerías\n",
        "\n"
      ]
    },
    {
      "cell_type": "code",
      "metadata": {
        "id": "UXiVKMkTrPU8"
      },
      "source": [
        "import numpy as np\n",
        "import matplotlib.pyplot as plt\n",
        "import cv2"
      ],
      "execution_count": null,
      "outputs": []
    },
    {
      "cell_type": "markdown",
      "metadata": {
        "id": "h1h2bAmpGfbf"
      },
      "source": [
        "# 2) Definicion de Matrices\n",
        "\n",
        "\n"
      ]
    },
    {
      "cell_type": "code",
      "metadata": {
        "id": "qtVSn8wesG39",
        "colab": {
          "base_uri": "https://localhost:8080/"
        },
        "outputId": "f8968ae3-83ea-487a-986a-81bb447930f7"
      },
      "source": [
        "# RECTA\n",
        "\n",
        "A = np.array([[4,0,-3],[-7,2,6]])\n",
        "B = np.array([[-1,-4,3],[8,2,-9]])\n",
        "\n",
        "C = np.array([[4,0,-3],[-7,2,6]])\n",
        "D = np.array([[5,1],[-10,3],[2,6]])\n",
        "\n",
        "E = np.array([[1,1,1],[2,2,2],[3,3,3]])\n",
        "\n",
        "suma = np.add(A,B)\n",
        "mult = np.dot(C,D)\n",
        "print('Resultado de la suma: ')\n",
        "print(suma)\n",
        "print('Resultado de la multiplicacion: ')\n",
        "print(mult)\n",
        "\n",
        "print(E)\n",
        "print('Resultado de la transposicion: ')\n",
        "print(E.transpose())\n",
        "\n",
        "\n",
        "\n"
      ],
      "execution_count": null,
      "outputs": [
        {
          "output_type": "stream",
          "name": "stdout",
          "text": [
            "Resultado de la suma: \n",
            "[[ 3 -4  0]\n",
            " [ 1  4 -3]]\n",
            "Resultado de la multiplicacion: \n",
            "[[ 14 -14]\n",
            " [-43  35]]\n",
            "[[1 1 1]\n",
            " [2 2 2]\n",
            " [3 3 3]]\n",
            "Resultado de la transposicion: \n",
            "[[1 2 3]\n",
            " [1 2 3]\n",
            " [1 2 3]]\n"
          ]
        }
      ]
    }
  ]
}